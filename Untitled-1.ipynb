{
 "cells": [
  {
   "cell_type": "code",
   "execution_count": 35,
   "metadata": {},
   "outputs": [
    {
     "name": "stdout",
     "output_type": "stream",
     "text": [
      "hello world\n"
     ]
    }
   ],
   "source": [
    "print (\"hello world\")"
   ]
  },
  {
   "cell_type": "code",
   "execution_count": 36,
   "metadata": {},
   "outputs": [
    {
     "name": "stdout",
     "output_type": "stream",
     "text": [
      "7\n",
      "<class 'int'>\n",
      "3.45\n",
      "<class 'float'>\n",
      "Ai\n",
      "<class 'str'>\n"
     ]
    }
   ],
   "source": [
    "x = 7\n",
    "print (x)\n",
    "print (type(x))\n",
    "\n",
    "y = 3.45\n",
    "print (y)\n",
    "print (type(y))\n",
    "\n",
    "z = \"Ai\"\n",
    "print (z)\n",
    "print (type(z))\n"
   ]
  },
  {
   "cell_type": "code",
   "execution_count": 37,
   "metadata": {},
   "outputs": [
    {
     "name": "stdout",
     "output_type": "stream",
     "text": [
      "x = 4\n",
      "y = 5\n",
      "x + y = ?\n",
      "4 + 5 = ?\n",
      "9\n",
      "4 + 5 = 9\n"
     ]
    }
   ],
   "source": [
    "x = \"x = 4\"\n",
    "print (x)\n",
    "y = \"y = 5\"\n",
    "print (y)\n",
    "z = \"x + y = ?\"\n",
    "print (z) \n",
    "a = \"4 + 5 = ?\"\n",
    "print (a)\n",
    "b = \"4 + 5 = 9\"\n",
    "sum = 4 + 5\n",
    "print (sum)\n",
    "print (b)\n"
   ]
  },
  {
   "cell_type": "code",
   "execution_count": 40,
   "metadata": {},
   "outputs": [
    {
     "name": "stdout",
     "output_type": "stream",
     "text": [
      "23\n"
     ]
    }
   ],
   "source": [
    "a = input(\"Enter the 1st Number: \")\n",
    "b = input(\"Enter the 2nd Number: \")\n",
    "\n",
    "answer = a + b\n",
    "print (answer)\n"
   ]
  },
  {
   "cell_type": "code",
   "execution_count": 7,
   "metadata": {},
   "outputs": [
    {
     "name": "stdout",
     "output_type": "stream",
     "text": [
      "8\n",
      "2\n",
      "15\n",
      "1.6666666666666667\n",
      "False\n",
      "True\n",
      "False\n"
     ]
    }
   ],
   "source": [
    "#Operators\n",
    "x=5\n",
    "y=3\n",
    "#Arithmetic\n",
    "print (x+y) \n",
    "print (x-y)\n",
    "print (x*y)\n",
    "print (x/y)\n",
    "#Comparison\n",
    "print (x==y)\n",
    "print (x>y)\n",
    "#Logical\n",
    "print (x>6 and x<2)\n"
   ]
  },
  {
   "cell_type": "code",
   "execution_count": 11,
   "metadata": {},
   "outputs": [
    {
     "name": "stdout",
     "output_type": "stream",
     "text": [
      "x is negative\n"
     ]
    }
   ],
   "source": [
    "x=5\n",
    "#Conditional Statements\n",
    "if x>0:\n",
    "    print (\"x is positive\")\n",
    "elif x<0:\n",
    "    print (\"x is negative\")\n",
    "else:\n",
    "    print (\"x is zero\")"
   ]
  },
  {
   "cell_type": "code",
   "execution_count": 24,
   "metadata": {},
   "outputs": [
    {
     "name": "stdout",
     "output_type": "stream",
     "text": [
      "0\n",
      "1\n",
      "2\n",
      "3\n",
      "4\n",
      "5\n",
      "0\n",
      "1\n",
      "2\n",
      "3\n",
      "4\n"
     ]
    }
   ],
   "source": [
    "#Loops\n",
    "for i in range(6):\n",
    "    print (i)\n",
    "\n",
    "i=0\n",
    "while i<5:\n",
    "    print (i)\n",
    "    i+=1"
   ]
  },
  {
   "cell_type": "code",
   "execution_count": 31,
   "metadata": {},
   "outputs": [
    {
     "name": "stdout",
     "output_type": "stream",
     "text": [
      "<class 'int'> <class 'str'> <class 'float'> <class 'bool'>\n"
     ]
    }
   ],
   "source": [
    "#Variables\n",
    "x=5\n",
    "y=\"bloody hell\"\n",
    "z=3.14\n",
    "b=True\n",
    "print (type(x),type(y),type(z),type(b))"
   ]
  },
  {
   "cell_type": "code",
   "execution_count": 34,
   "metadata": {},
   "outputs": [
    {
     "name": "stdout",
     "output_type": "stream",
     "text": [
      "8\n"
     ]
    }
   ],
   "source": [
    "#Functions\n",
    "def add(x,y):\n",
    "    return x+y\n",
    "print (add(5,3))"
   ]
  },
  {
   "cell_type": "code",
   "execution_count": 59,
   "metadata": {},
   "outputs": [
    {
     "name": "stdout",
     "output_type": "stream",
     "text": [
      "['apple', 'banana', 'orange']\n",
      "['apple', 'banana', 'orange', 'mango']\n",
      "(1, 2, 3)\n"
     ]
    }
   ],
   "source": [
    "#Lists\n",
    "fruits=[\"apple\",\"banana\",\"orange\"]\n",
    "print (fruits)\n",
    "fruits.append(\"mango\")\n",
    "print (fruits)\n",
    "#Tuples\n",
    "nums=(1,2,3)\n",
    "print (nums)"
   ]
  },
  {
   "cell_type": "code",
   "execution_count": 61,
   "metadata": {},
   "outputs": [
    {
     "name": "stdout",
     "output_type": "stream",
     "text": [
      "Jhon\n",
      "30\n",
      "Male\n",
      "40\n"
     ]
    }
   ],
   "source": [
    "#Dictionaries\n",
    "p={\"Name\":\"Jhon\",\"Age\":30,\"Gender\":\"Male\"}\n",
    "print(p[\"Name\"])\n",
    "print(p[\"Age\"])\n",
    "print(p[\"Gender\"])\n",
    "p[\"Age\"]=40\n",
    "print(p[\"Age\"])"
   ]
  },
  {
   "cell_type": "code",
   "execution_count": 64,
   "metadata": {},
   "outputs": [
    {
     "name": "stdout",
     "output_type": "stream",
     "text": [
      "3.141592653589793\n",
      "<built-in function getcwd>\n"
     ]
    }
   ],
   "source": [
    "#Modules and Libraries\n",
    "import math\n",
    "print(math.pi)\n",
    "\n",
    "import os\n",
    "print(os.getcwd)"
   ]
  },
  {
   "cell_type": "code",
   "execution_count": 68,
   "metadata": {},
   "outputs": [
    {
     "name": "stdout",
     "output_type": "stream",
     "text": [
      "Error\n"
     ]
    }
   ],
   "source": [
    "#Exception Handling\n",
    "try:\n",
    "    x=5/0\n",
    "except ZeroDivisionError:\n",
    "    print (\"Error\")"
   ]
  },
  {
   "cell_type": "code",
   "execution_count": 112,
   "metadata": {},
   "outputs": [
    {
     "name": "stdout",
     "output_type": "stream",
     "text": [
      "Hello, My Name is Mica and I'm 18 years old.\n"
     ]
    }
   ],
   "source": [
    "#Object-Oriented Programming\n",
    "class  program:\n",
    "    def __init__(self, name,age):\n",
    "        self.name = name\n",
    "        self.age = age\n",
    "    def say_hello(self):\n",
    "        print (f\"Hello, My Name is {self.name} and I'm {self.age} years old.\")\n",
    "mica=program(\"Mica\",18)\n",
    "mica.say_hello()"
   ]
  },
  {
   "cell_type": "code",
   "execution_count": 114,
   "metadata": {},
   "outputs": [
    {
     "name": "stdout",
     "output_type": "stream",
     "text": [
      "sup\n"
     ]
    }
   ],
   "source": [
    "#Decorators\n",
    "def my_decorator(func):\n",
    "    def wrapper():\n",
    "        print(\"before function is called\")\n",
    "        func()\n",
    "        print(\"after function is called\")\n",
    "    return wrapper\n",
    "\n",
    "def say_hello():\n",
    "    print(\"sup\")\n",
    "\n",
    "say_hello()"
   ]
  },
  {
   "cell_type": "code",
   "execution_count": null,
   "metadata": {},
   "outputs": [],
   "source": []
  }
 ],
 "metadata": {
  "kernelspec": {
   "display_name": "Python 3",
   "language": "python",
   "name": "python3"
  },
  "language_info": {
   "codemirror_mode": {
    "name": "ipython",
    "version": 3
   },
   "file_extension": ".py",
   "mimetype": "text/x-python",
   "name": "python",
   "nbconvert_exporter": "python",
   "pygments_lexer": "ipython3",
   "version": "3.12.2"
  }
 },
 "nbformat": 4,
 "nbformat_minor": 2
}
